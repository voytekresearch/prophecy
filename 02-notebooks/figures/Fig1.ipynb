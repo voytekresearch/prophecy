{
 "cells": [
  {
   "cell_type": "markdown",
   "id": "6798ffa9-cda9-4856-9f31-5f979d34492d",
   "metadata": {},
   "source": [
    "# Figure 1\n",
    "\n",
    "**Figure 1 | Task, behavior, and electrode locations.** (A) Task design. A fixation period of 250-500 ms is followed by the presentation of 3-5 piano tones (C4 - B4). The first 2-4 tones are presented isochronously with inter-onset intervals ranging from 333-1000 ms (1-3 Hz). The last tone in the sequence is jittered relative to the inter-onset interval (IOI). Trial-wise jitters were randomly drawn from a uniform distribution ranging ±40% of the IOI. After 210 ms, the participant is cued to respond if the tone is early or late, and how confident they are in their response on a scale of 1-4, where a confident early response is indicated by a keypress of 1 and a confident late response is indicated by keypress of 4. A less confident response is a forced choice between 2 and 3. (B) Average sigmoid fits of behavioral accuracy in healthy participants performing the task, by condition (blue: 3 tones, orange: 4 tones, green: 5 tones). Average fit is a solid line and shading represents one standard deviation. Equivalence point (𝜇) of sigmoid fits did not differ between conditions (one-way rm-ANOVA), but slope (𝜎) significantly increased on trials with more than three tones (one-way rm-ANOVA: p = 2.30x10-5). (𝜎3-tone = 9.56±4.23, 𝜎4-tone = 16.90±7.46; Holm-Bonferroni corrected two-tailed paired t-test: p = 6.50x10-4, n = 11); (𝜎3-tone = 9.56±4.23, 𝜎5-tone = 22.23±8.71; Holm-Bonferroni-corrected two-tailed paired t-test: p = 6.09x10-4, n = 11). (C) Average sigmoid fits of behavioral accuracy in sEEG participants performing the task. Color, line style, and shading like panel B. 𝜇 did not differ between conditions (one-way rm-ANOVA). 𝜎 significantly increased on trials with more than three tones (one-way rm-ANOVA: p = 1.63x10-3). (𝜎3-tone = 7.13±6.08, 𝜎4-tone = 11.39±7.84; Holm-Bonferroni corrected two-tailed paired t-test: p = 9.26x10-3, n = 7); (𝜎3-tone = 7.13±6.08, 𝜎5-tone = 11.63±8.43; Holm-Bonferroni corrected, two-tailed paired t-test: p = 0.04, n = 7). Neither 𝜎 nor 𝜇 were significantly different between healthy participants and sEEG participants (one-way mixed ANOVA). (D) Cortical locations of midpoints between bipolar contact pairs in seven sEEG participants, where electrodes were implanted based solely on clinical needs.\n",
    "\n"
   ]
  },
  {
   "cell_type": "markdown",
   "id": "890ec2ff-7155-4704-a057-dbb5688599f0",
   "metadata": {},
   "source": [
    "### imports"
   ]
  },
  {
   "cell_type": "code",
   "execution_count": 1,
   "id": "db3ba740-5670-4333-ad06-704645ebeab8",
   "metadata": {},
   "outputs": [],
   "source": [
    "%matplotlib inline\n",
    "import os\n",
    "import os.path as op\n",
    "import pandas as pd\n",
    "import numpy as np\n",
    "from glob import glob\n",
    "import pingouin as pg\n",
    "\n",
    "from scipy.stats import norm, binned_statistic\n",
    "from scipy.optimize import fmin\n",
    "\n",
    "import matplotlib.pyplot as plt\n",
    "import seaborn as sns\n",
    "\n",
    "import warnings\n",
    "warnings.simplefilter(action='ignore', category=FutureWarning)"
   ]
  },
  {
   "cell_type": "code",
   "execution_count": 2,
   "id": "220d6848-373a-4b1d-b413-1321193b5fff",
   "metadata": {},
   "outputs": [],
   "source": [
    "sns.set_context('talk')"
   ]
  },
  {
   "cell_type": "markdown",
   "id": "ebb32cc8-0b8d-4bae-8b31-b5eaed6523cf",
   "metadata": {},
   "source": [
    "### analysis functions"
   ]
  },
  {
   "cell_type": "code",
   "execution_count": 3,
   "id": "033cd3b2-b24a-4db0-9487-e72d79fe2d84",
   "metadata": {},
   "outputs": [],
   "source": [
    "def load_behav(resdir):\n",
    "    # creating a search term to grab all the csv files in the folder\n",
    "    subsearch = op.join(resdir, '*exp.csv')\n",
    "    \n",
    "    # making an array of those filenames\n",
    "    subfiles = np.sort(np.array(glob(subsearch)))\n",
    "    \n",
    "    # pulling out participant ids\n",
    "    sub_ids = [a[a.find('/', -15, -1)+1:a.find('_exp.csv')] for a in subfiles]\n",
    "    \n",
    "    # opening each csv file and manipulating it\n",
    "    subData = list()\n",
    "    for file in subfiles:\n",
    "        data = pd.read_csv(file, skipinitialspace=True);\n",
    "        # remove the training blocks\n",
    "        data = data[data['Block #'] != 0]\n",
    "        data.sub_id = file[file.find('/')+1:file.find('_exp.csv')]\n",
    "        subData.append(data)\n",
    "\n",
    "    return subData, sub_ids\n",
    "\n",
    "# sigmoid function\n",
    "def simpsych(x, pars):\n",
    "    return  1./(1 + np.e**((pars[0]-x)*pars[1])) # pars[0] = u (the equivalence point), pars[1] = sigma (the slope); x = jitter\n",
    "\n",
    "# cost function for fitting\n",
    "cost = lambda pars, r, j : -np.mean(r*np.log(simpsych(j, pars))\n",
    "             + (1 - r)*np.log(1 - simpsych(j, pars)))\n",
    "\n",
    "def compute_sigmoid_fit_params(subData, cost):\n",
    "\n",
    "    all_pars = list()\n",
    "    for data in subData:\n",
    "        jitter = (data['SOA Jitter'] - data['SOA'])/1000.\n",
    "        rating = (data['Rating'] - np.min(data['Rating']))/np.ptp(data['Rating'])\n",
    "        sub_pars = list()\n",
    "        for tonenum in np.unique(data['Standard #']):\n",
    "            \n",
    "            # get ratings and jitters for specific tone numbers\n",
    "            indx = data['Standard #'] == tonenum\n",
    "            rat = rating[indx]\n",
    "            jit = jitter[indx]\n",
    "            \n",
    "            # fit the data                                                      \n",
    "            params = fmin(cost, np.array([0, 1]), (rat, jit), disp=False)\n",
    "            x = np.linspace(-np.max(np.abs(jit)), np.max(np.abs(jit)), 241)\n",
    "            sub_pars.append(params) \n",
    "            \n",
    "        all_pars.append(sub_pars)\n",
    "    \n",
    "    all_pars = np.array(all_pars)\n",
    "\n",
    "    return all_pars"
   ]
  },
  {
   "cell_type": "markdown",
   "id": "1f2e649c-af32-401d-8d3b-0c03e444977b",
   "metadata": {},
   "source": [
    "### plotting functions\n"
   ]
  },
  {
   "cell_type": "code",
   "execution_count": 7,
   "id": "e13d6f89-2268-4eb7-91e2-35bc1e3ceef3",
   "metadata": {},
   "outputs": [],
   "source": [
    "def plot_sigmoid_params(all_pars, sub_ids):\n",
    "    rows, cols = 1, 2\n",
    "    fig, axs = plt.subplots(rows, cols, figsize=(6,3.5))\n",
    "    parnames= ['Equivalence', 'Sigmoid Slope']\n",
    "    data = subData[0]\n",
    "    for ind, par in enumerate(all_pars):\n",
    "        for n in range(2):\n",
    "            axs[n].plot(np.unique(data['Standard #']+1), par[:, n], \n",
    "                        ms=20, color='k', alpha=0.05, label=sub_ids[ind], zorder=0, lw=4)\n",
    "            axs[n].set_xticks(np.unique(data['Standard #']+1))\n",
    "            axs[n].set_ylabel(parnames[n], fontsize=16)\n",
    "            axs[n].set_xlabel('# of tones', fontsize=16)\n",
    "\n",
    "    x_jitter = (np.random.normal(0, 0.02, size=len(sub_ids)))\n",
    "\n",
    "    for y_ind, x_ind in enumerate([3,4,5]):\n",
    "        # subject values\n",
    "        axs[0].scatter(np.tile(x_ind, len(sub_ids))+x_jitter, all_pars[:,y_ind,0], alpha=0.7)\n",
    "        axs[1].scatter(np.tile(x_ind, len(sub_ids))+x_jitter, all_pars[:,y_ind,1], alpha=0.7)\n",
    "\n",
    "        # average values\n",
    "        axs[0].plot([x_ind-0.15, x_ind+0.15], [np.mean(all_pars[:,y_ind,0]), np.mean(all_pars[:,y_ind,0])], lw=6)\n",
    "        axs[1].plot([x_ind-0.15, x_ind+0.15], [np.mean(all_pars[:,y_ind,1]), np.mean(all_pars[:,y_ind,1])], lw=6)\n",
    "\n",
    "\n",
    "    axs[0].set_ylim([-0.2, 0.2])\n",
    "    axs[1].set_ylim([0,45])\n",
    "    axs[0].set_xlim(2.75, 5.25)\n",
    "    axs[1].set_xlim(2.75, 5.25)\n",
    "    sns.despine()\n",
    "    fig.tight_layout()\n",
    "\n",
    "def plot_sigmoid_fits(all_pars, group):\n",
    "    \"\"\"group is 'HC' or 'sEEG' \"\"\"\n",
    "    \n",
    "    # compute errors\n",
    "    x = np.linspace(-0.4, 0.4, 214)\n",
    "    errors = []\n",
    "    # for each condition\n",
    "    for c in range(0,all_pars.shape[1]):\n",
    "        ys = []\n",
    "        for s in range(0,all_pars.shape[0]):\n",
    "            # calculate 10 sigmoid fits\n",
    "            y = simpsych(x, all_pars[s][c])\n",
    "            ys.append(y)\n",
    "        ys = np.asarray(ys)\n",
    "        # calculate std of 10 sigmoid fits\n",
    "        error = ys.std(axis=0)\n",
    "        # return error array for each condition\n",
    "        errors.append(error)\n",
    "\n",
    "        plt.figure(figsize=[6,4])\n",
    "\n",
    "    y2 = simpsych(x, all_pars.mean(axis=0)[0])\n",
    "    y3 = simpsych(x, all_pars.mean(axis=0)[1])\n",
    "    y4 = simpsych(x, all_pars.mean(axis=0)[2])\n",
    "    \n",
    "    plt.plot(x, y2, label='3 ♪')\n",
    "    plt.plot(x, y3, label='4 ♪')\n",
    "    plt.plot(x, y4, label='5 ♪')\n",
    "    \n",
    "    plt.fill_between(x, y2-errors[0], y2+errors[0], alpha=0.2)\n",
    "    plt.fill_between(x, y3-errors[1], y3+errors[1], alpha=0.2)\n",
    "    plt.fill_between(x, y4-errors[2], y4+errors[2], alpha=0.2)\n",
    "    \n",
    "    plt.ylim(-0.1, 1.1)\n",
    "    \n",
    "    plt.legend()\n",
    "    plt.axvline(0, color='k', linestyle='--', lw=2)    \n",
    "    if group=='HC':\n",
    "        plt.title('Healthy Participants (n=11)')\n",
    "    else:\n",
    "        plt.title('sEEG Participants (n=7)')\n",
    "    plt.xlabel('Jitter (s)')\n",
    "    plt.ylabel('Prop. of LATE resp')\n",
    "    sns.despine()"
   ]
  },
  {
   "cell_type": "markdown",
   "id": "5ab7580d-2af1-4354-a1de-6df2b6bb3c88",
   "metadata": {},
   "source": [
    "# panel A\n",
    "\n",
    "Task paradigm diagram"
   ]
  },
  {
   "cell_type": "markdown",
   "id": "2cf0ceb7-d6a9-4062-88ff-02d7c15b8333",
   "metadata": {},
   "source": [
    "# panel B"
   ]
  },
  {
   "cell_type": "code",
   "execution_count": 8,
   "id": "46068410-5ca5-4d9d-889d-d682123cc16b",
   "metadata": {},
   "outputs": [],
   "source": [
    "resdir = \"/Users/sydneysmith/Projects/PrOPHEcy/PrOPHEcy/03-results/behavior_HC\"\n",
    "\n",
    "subData, sub_ids = load_behav(resdir)\n",
    "all_pars = compute_sigmoid_fit_params(subData, cost)"
   ]
  },
  {
   "cell_type": "code",
   "execution_count": 9,
   "id": "596e7267-ee8e-48fd-8c52-382edc5864ea",
   "metadata": {},
   "outputs": [
    {
     "data": {
      "text/plain": [
       "<Figure size 600x400 with 0 Axes>"
      ]
     },
     "metadata": {},
     "output_type": "display_data"
    },
    {
     "data": {
      "text/plain": [
       "<Figure size 600x400 with 0 Axes>"
      ]
     },
     "metadata": {},
     "output_type": "display_data"
    },
    {
     "data": {
      "image/png": "[encoded data removed]",
      "text/plain": [
       "<Figure size 600x400 with 1 Axes>"
      ]
     },
     "metadata": {},
     "output_type": "display_data"
    }
   ],
   "source": [
    "plot_sigmoid_fits(all_pars, group='HC')"
   ]
  },
  {
   "cell_type": "code",
   "execution_count": 10,
   "id": "659d1a8d-924f-4a53-900a-b8318fec3c5f",
   "metadata": {},
   "outputs": [
    {
     "data": {
      "image/png": "[encoded data removed]",
      "text/plain": [
       "<Figure size 600x350 with 2 Axes>"
      ]
     },
     "metadata": {},
     "output_type": "display_data"
    }
   ],
   "source": [
    "plot_sigmoid_params(all_pars, sub_ids)"
   ]
  },
  {
   "cell_type": "markdown",
   "id": "a9f5c9a6-a9ee-4c4a-9955-7ebca401eb74",
   "metadata": {
    "jp-MarkdownHeadingCollapsed": true
   },
   "source": [
    "### panel B statistics"
   ]
  },
  {
   "cell_type": "code",
   "execution_count": 8,
   "id": "ccc9c446-c6ea-4198-bc8c-785265c1e563",
   "metadata": {},
   "outputs": [],
   "source": [
    "pars_dict = {'subject' : [],\n",
    "             'n_tones' : [],\n",
    "             'equiv' : [],\n",
    "             'slope' : []}\n",
    "pars_dict['equiv'] = all_pars[:,:,0].flatten().tolist()\n",
    "pars_dict['slope'] = all_pars[:,:,1].flatten().tolist()\n",
    "pars_dict['n_tones'] = np.tile([2,3,4],len(sub_ids)).tolist()\n",
    "pars_dict['subject'] = np.array([np.repeat(subj, 3) for subj in sub_ids]).flatten().tolist()\n",
    "\n",
    "pars_df = pd.DataFrame(pars_dict)\n",
    "pars_df['group'] = np.tile('Healthy', len(pars_df))"
   ]
  },
  {
   "cell_type": "code",
   "execution_count": 9,
   "id": "bebb2313-cb87-4e8f-93e8-ff909904b7d4",
   "metadata": {},
   "outputs": [
    {
     "name": "stderr",
     "output_type": "stream",
     "text": [
      "/opt/miniconda3/envs/prophecy_viz/lib/python3.12/site-packages/pingouin/distribution.py:1004: RuntimeWarning: divide by zero encountered in scalar divide\n",
      "  W = np.prod(eig) / (eig.sum() / d) ** d\n"
     ]
    },
    {
     "data": {
      "text/html": [
       "<div>\n",
       "<style scoped>\n",
       "    .dataframe tbody tr th:only-of-type {\n",
       "        vertical-align: middle;\n",
       "    }\n",
       "\n",
       "    .dataframe tbody tr th {\n",
       "        vertical-align: top;\n",
       "    }\n",
       "\n",
       "    .dataframe thead th {\n",
       "        text-align: right;\n",
       "    }\n",
       "</style>\n",
       "<table border=\"1\" class=\"dataframe\">\n",
       "  <thead>\n",
       "    <tr style=\"text-align: right;\">\n",
       "      <th></th>\n",
       "      <th>Source</th>\n",
       "      <th>SS</th>\n",
       "      <th>DF</th>\n",
       "      <th>MS</th>\n",
       "      <th>F</th>\n",
       "      <th>p-unc</th>\n",
       "      <th>p-GG-corr</th>\n",
       "      <th>ng2</th>\n",
       "      <th>eps</th>\n",
       "      <th>sphericity</th>\n",
       "      <th>W-spher</th>\n",
       "      <th>p-spher</th>\n",
       "    </tr>\n",
       "  </thead>\n",
       "  <tbody>\n",
       "    <tr>\n",
       "      <th>0</th>\n",
       "      <td>n_tones</td>\n",
       "      <td>0.003317</td>\n",
       "      <td>2</td>\n",
       "      <td>0.001658</td>\n",
       "      <td>3.790369</td>\n",
       "      <td>0.040201</td>\n",
       "      <td>0.058803</td>\n",
       "      <td>0.157386</td>\n",
       "      <td>0.724842</td>\n",
       "      <td>True</td>\n",
       "      <td>inf</td>\n",
       "      <td>1.0</td>\n",
       "    </tr>\n",
       "    <tr>\n",
       "      <th>1</th>\n",
       "      <td>Error</td>\n",
       "      <td>0.008750</td>\n",
       "      <td>20</td>\n",
       "      <td>0.000437</td>\n",
       "      <td>NaN</td>\n",
       "      <td>NaN</td>\n",
       "      <td>NaN</td>\n",
       "      <td>NaN</td>\n",
       "      <td>NaN</td>\n",
       "      <td>NaN</td>\n",
       "      <td>NaN</td>\n",
       "      <td>NaN</td>\n",
       "    </tr>\n",
       "  </tbody>\n",
       "</table>\n",
       "</div>"
      ],
      "text/plain": [
       "    Source        SS  DF        MS         F     p-unc  p-GG-corr       ng2  \\\n",
       "0  n_tones  0.003317   2  0.001658  3.790369  0.040201   0.058803  0.157386   \n",
       "1    Error  0.008750  20  0.000437       NaN       NaN        NaN       NaN   \n",
       "\n",
       "        eps sphericity  W-spher  p-spher  \n",
       "0  0.724842       True      inf      1.0  \n",
       "1       NaN        NaN      NaN      NaN  "
      ]
     },
     "execution_count": 9,
     "metadata": {},
     "output_type": "execute_result"
    }
   ],
   "source": [
    "# equivalence point\n",
    "pg.rm_anova(pars_df, dv='equiv', within='n_tones', subject='subject', correction=True, detailed=True)"
   ]
  },
  {
   "cell_type": "code",
   "execution_count": 10,
   "id": "97c4ebeb-a0f7-46fd-ade7-c7567bd739d1",
   "metadata": {},
   "outputs": [
    {
     "name": "stdout",
     "output_type": "stream",
     "text": [
      "mean: [np.float64(0.029160425240212527), np.float64(0.01041796152289391), np.float64(0.006049002443309626)]\n",
      "std: [np.float64(0.03440833343368475), np.float64(0.012432347702111797), np.float64(0.01660396234437766)]\n"
     ]
    }
   ],
   "source": [
    "equiv_2 = all_pars[:,0,0]\n",
    "equiv_3 = all_pars[:,1,0]\n",
    "equiv_4 = all_pars[:,2,0]\n",
    "\n",
    "print('mean: '+str([np.mean(x) for x in [equiv_2, equiv_3, equiv_4]]))\n",
    "print('std: '+str([np.std(x) for x in [equiv_2, equiv_3, equiv_4]]))"
   ]
  },
  {
   "cell_type": "code",
   "execution_count": 11,
   "id": "2935302d-64fb-423f-ab44-80bfefd0f973",
   "metadata": {},
   "outputs": [
    {
     "data": {
      "text/html": [
       "<div>\n",
       "<style scoped>\n",
       "    .dataframe tbody tr th:only-of-type {\n",
       "        vertical-align: middle;\n",
       "    }\n",
       "\n",
       "    .dataframe tbody tr th {\n",
       "        vertical-align: top;\n",
       "    }\n",
       "\n",
       "    .dataframe thead th {\n",
       "        text-align: right;\n",
       "    }\n",
       "</style>\n",
       "<table border=\"1\" class=\"dataframe\">\n",
       "  <thead>\n",
       "    <tr style=\"text-align: right;\">\n",
       "      <th></th>\n",
       "      <th>T</th>\n",
       "      <th>dof</th>\n",
       "      <th>alternative</th>\n",
       "      <th>p-val</th>\n",
       "      <th>CI95%</th>\n",
       "      <th>cohen-d</th>\n",
       "      <th>BF10</th>\n",
       "      <th>power</th>\n",
       "    </tr>\n",
       "  </thead>\n",
       "  <tbody>\n",
       "    <tr>\n",
       "      <th>T-test</th>\n",
       "      <td>1.940427</td>\n",
       "      <td>10</td>\n",
       "      <td>two-sided</td>\n",
       "      <td>0.081024</td>\n",
       "      <td>[-0.0, 0.04]</td>\n",
       "      <td>0.690775</td>\n",
       "      <td>1.189</td>\n",
       "      <td>0.543467</td>\n",
       "    </tr>\n",
       "  </tbody>\n",
       "</table>\n",
       "</div>"
      ],
      "text/plain": [
       "               T  dof alternative     p-val         CI95%   cohen-d   BF10  \\\n",
       "T-test  1.940427   10   two-sided  0.081024  [-0.0, 0.04]  0.690775  1.189   \n",
       "\n",
       "           power  \n",
       "T-test  0.543467  "
      ]
     },
     "execution_count": 11,
     "metadata": {},
     "output_type": "execute_result"
    }
   ],
   "source": [
    "equiv23 = pg.ttest(equiv_2, equiv_3, paired=True)\n",
    "equiv23"
   ]
  },
  {
   "cell_type": "code",
   "execution_count": 12,
   "id": "f8c0e5ea-22eb-4bdb-a984-477fb898032d",
   "metadata": {},
   "outputs": [
    {
     "data": {
      "text/html": [
       "<div>\n",
       "<style scoped>\n",
       "    .dataframe tbody tr th:only-of-type {\n",
       "        vertical-align: middle;\n",
       "    }\n",
       "\n",
       "    .dataframe tbody tr th {\n",
       "        vertical-align: top;\n",
       "    }\n",
       "\n",
       "    .dataframe thead th {\n",
       "        text-align: right;\n",
       "    }\n",
       "</style>\n",
       "<table border=\"1\" class=\"dataframe\">\n",
       "  <thead>\n",
       "    <tr style=\"text-align: right;\">\n",
       "      <th></th>\n",
       "      <th>T</th>\n",
       "      <th>dof</th>\n",
       "      <th>alternative</th>\n",
       "      <th>p-val</th>\n",
       "      <th>CI95%</th>\n",
       "      <th>cohen-d</th>\n",
       "      <th>BF10</th>\n",
       "      <th>power</th>\n",
       "    </tr>\n",
       "  </thead>\n",
       "  <tbody>\n",
       "    <tr>\n",
       "      <th>T-test</th>\n",
       "      <td>2.170234</td>\n",
       "      <td>10</td>\n",
       "      <td>two-sided</td>\n",
       "      <td>0.055148</td>\n",
       "      <td>[-0.0, 0.05]</td>\n",
       "      <td>0.815689</td>\n",
       "      <td>1.585</td>\n",
       "      <td>0.684441</td>\n",
       "    </tr>\n",
       "  </tbody>\n",
       "</table>\n",
       "</div>"
      ],
      "text/plain": [
       "               T  dof alternative     p-val         CI95%   cohen-d   BF10  \\\n",
       "T-test  2.170234   10   two-sided  0.055148  [-0.0, 0.05]  0.815689  1.585   \n",
       "\n",
       "           power  \n",
       "T-test  0.684441  "
      ]
     },
     "execution_count": 12,
     "metadata": {},
     "output_type": "execute_result"
    }
   ],
   "source": [
    "equiv24 = pg.ttest(equiv_2, equiv_4, paired=True)\n",
    "equiv24"
   ]
  },
  {
   "cell_type": "code",
   "execution_count": 13,
   "id": "750ba3ac-a9c2-4e35-ab76-6ec43a74d189",
   "metadata": {},
   "outputs": [
    {
     "data": {
      "text/html": [
       "<div>\n",
       "<style scoped>\n",
       "    .dataframe tbody tr th:only-of-type {\n",
       "        vertical-align: middle;\n",
       "    }\n",
       "\n",
       "    .dataframe tbody tr th {\n",
       "        vertical-align: top;\n",
       "    }\n",
       "\n",
       "    .dataframe thead th {\n",
       "        text-align: right;\n",
       "    }\n",
       "</style>\n",
       "<table border=\"1\" class=\"dataframe\">\n",
       "  <thead>\n",
       "    <tr style=\"text-align: right;\">\n",
       "      <th></th>\n",
       "      <th>T</th>\n",
       "      <th>dof</th>\n",
       "      <th>alternative</th>\n",
       "      <th>p-val</th>\n",
       "      <th>CI95%</th>\n",
       "      <th>cohen-d</th>\n",
       "      <th>BF10</th>\n",
       "      <th>power</th>\n",
       "    </tr>\n",
       "  </thead>\n",
       "  <tbody>\n",
       "    <tr>\n",
       "      <th>T-test</th>\n",
       "      <td>0.773171</td>\n",
       "      <td>10</td>\n",
       "      <td>two-sided</td>\n",
       "      <td>0.457308</td>\n",
       "      <td>[-0.01, 0.02]</td>\n",
       "      <td>0.28401</td>\n",
       "      <td>0.383</td>\n",
       "      <td>0.136836</td>\n",
       "    </tr>\n",
       "  </tbody>\n",
       "</table>\n",
       "</div>"
      ],
      "text/plain": [
       "               T  dof alternative     p-val          CI95%  cohen-d   BF10  \\\n",
       "T-test  0.773171   10   two-sided  0.457308  [-0.01, 0.02]  0.28401  0.383   \n",
       "\n",
       "           power  \n",
       "T-test  0.136836  "
      ]
     },
     "execution_count": 13,
     "metadata": {},
     "output_type": "execute_result"
    }
   ],
   "source": [
    "equiv34 = pg.ttest(equiv_3, equiv_4, paired=True)\n",
    "equiv34"
   ]
  },
  {
   "cell_type": "code",
   "execution_count": 14,
   "id": "7be4974a-90b5-4907-b0f6-520d2895ff70",
   "metadata": {},
   "outputs": [
    {
     "data": {
      "text/html": [
       "<div>\n",
       "<style scoped>\n",
       "    .dataframe tbody tr th:only-of-type {\n",
       "        vertical-align: middle;\n",
       "    }\n",
       "\n",
       "    .dataframe tbody tr th {\n",
       "        vertical-align: top;\n",
       "    }\n",
       "\n",
       "    .dataframe thead th {\n",
       "        text-align: right;\n",
       "    }\n",
       "</style>\n",
       "<table border=\"1\" class=\"dataframe\">\n",
       "  <thead>\n",
       "    <tr style=\"text-align: right;\">\n",
       "      <th></th>\n",
       "      <th>Source</th>\n",
       "      <th>ddof1</th>\n",
       "      <th>ddof2</th>\n",
       "      <th>F</th>\n",
       "      <th>p-unc</th>\n",
       "      <th>p-GG-corr</th>\n",
       "      <th>ng2</th>\n",
       "      <th>eps</th>\n",
       "      <th>sphericity</th>\n",
       "      <th>W-spher</th>\n",
       "      <th>p-spher</th>\n",
       "    </tr>\n",
       "  </thead>\n",
       "  <tbody>\n",
       "    <tr>\n",
       "      <th>0</th>\n",
       "      <td>n_tones</td>\n",
       "      <td>2</td>\n",
       "      <td>20</td>\n",
       "      <td>26.396105</td>\n",
       "      <td>0.000002</td>\n",
       "      <td>0.000023</td>\n",
       "      <td>0.351558</td>\n",
       "      <td>0.781569</td>\n",
       "      <td>True</td>\n",
       "      <td>0.720522</td>\n",
       "      <td>0.228777</td>\n",
       "    </tr>\n",
       "  </tbody>\n",
       "</table>\n",
       "</div>"
      ],
      "text/plain": [
       "    Source  ddof1  ddof2          F     p-unc  p-GG-corr       ng2       eps  \\\n",
       "0  n_tones      2     20  26.396105  0.000002   0.000023  0.351558  0.781569   \n",
       "\n",
       "   sphericity   W-spher   p-spher  \n",
       "0        True  0.720522  0.228777  "
      ]
     },
     "execution_count": 14,
     "metadata": {},
     "output_type": "execute_result"
    }
   ],
   "source": [
    "# sigmoid slope\n",
    "slope_anova = pg.rm_anova(pars_df, dv='slope', within='n_tones', subject='subject', correction=True)\n",
    "slope_anova"
   ]
  },
  {
   "cell_type": "code",
   "execution_count": 15,
   "id": "9033bba4-b701-4498-b797-bc29c6cdf406",
   "metadata": {},
   "outputs": [
    {
     "name": "stdout",
     "output_type": "stream",
     "text": [
      "mean: [np.float64(9.560860870124905), np.float64(16.89744000251254), np.float64(22.234365915446276)]\n",
      "std: [np.float64(4.231269561248304), np.float64(7.461290794354747), np.float64(8.70531966394181)]\n"
     ]
    }
   ],
   "source": [
    "slope_2 = all_pars[:,0,1]\n",
    "slope_3 = all_pars[:,1,1]\n",
    "slope_4 = all_pars[:,2,1]\n",
    "\n",
    "print('mean: ' + str([np.mean(x) for x in [slope_2, slope_3, slope_4]]))\n",
    "print('std: ' + str([np.std(x) for x in [slope_2, slope_3, slope_4]]))"
   ]
  },
  {
   "cell_type": "code",
   "execution_count": 16,
   "id": "fd1d892f-2d91-4003-947e-b13a15d917cb",
   "metadata": {},
   "outputs": [
    {
     "data": {
      "text/html": [
       "<div>\n",
       "<style scoped>\n",
       "    .dataframe tbody tr th:only-of-type {\n",
       "        vertical-align: middle;\n",
       "    }\n",
       "\n",
       "    .dataframe tbody tr th {\n",
       "        vertical-align: top;\n",
       "    }\n",
       "\n",
       "    .dataframe thead th {\n",
       "        text-align: right;\n",
       "    }\n",
       "</style>\n",
       "<table border=\"1\" class=\"dataframe\">\n",
       "  <thead>\n",
       "    <tr style=\"text-align: right;\">\n",
       "      <th></th>\n",
       "      <th>T</th>\n",
       "      <th>dof</th>\n",
       "      <th>alternative</th>\n",
       "      <th>p-val</th>\n",
       "      <th>CI95%</th>\n",
       "      <th>cohen-d</th>\n",
       "      <th>BF10</th>\n",
       "      <th>power</th>\n",
       "    </tr>\n",
       "  </thead>\n",
       "  <tbody>\n",
       "    <tr>\n",
       "      <th>T-test</th>\n",
       "      <td>-6.012475</td>\n",
       "      <td>10</td>\n",
       "      <td>two-sided</td>\n",
       "      <td>0.00013</td>\n",
       "      <td>[-10.06, -4.62]</td>\n",
       "      <td>1.153317</td>\n",
       "      <td>229.619</td>\n",
       "      <td>0.930345</td>\n",
       "    </tr>\n",
       "  </tbody>\n",
       "</table>\n",
       "</div>"
      ],
      "text/plain": [
       "               T  dof alternative    p-val            CI95%   cohen-d  \\\n",
       "T-test -6.012475   10   two-sided  0.00013  [-10.06, -4.62]  1.153317   \n",
       "\n",
       "           BF10     power  \n",
       "T-test  229.619  0.930345  "
      ]
     },
     "execution_count": 16,
     "metadata": {},
     "output_type": "execute_result"
    }
   ],
   "source": [
    "slope23 = pg.ttest(slope_2, slope_3, paired=True)\n",
    "slope23"
   ]
  },
  {
   "cell_type": "code",
   "execution_count": 17,
   "id": "9f9ab73a-9ad1-4c49-bf9b-0e620a2a6faa",
   "metadata": {},
   "outputs": [
    {
     "data": {
      "text/html": [
       "<div>\n",
       "<style scoped>\n",
       "    .dataframe tbody tr th:only-of-type {\n",
       "        vertical-align: middle;\n",
       "    }\n",
       "\n",
       "    .dataframe tbody tr th {\n",
       "        vertical-align: top;\n",
       "    }\n",
       "\n",
       "    .dataframe thead th {\n",
       "        text-align: right;\n",
       "    }\n",
       "</style>\n",
       "<table border=\"1\" class=\"dataframe\">\n",
       "  <thead>\n",
       "    <tr style=\"text-align: right;\">\n",
       "      <th></th>\n",
       "      <th>T</th>\n",
       "      <th>dof</th>\n",
       "      <th>alternative</th>\n",
       "      <th>p-val</th>\n",
       "      <th>CI95%</th>\n",
       "      <th>cohen-d</th>\n",
       "      <th>BF10</th>\n",
       "      <th>power</th>\n",
       "    </tr>\n",
       "  </thead>\n",
       "  <tbody>\n",
       "    <tr>\n",
       "      <th>T-test</th>\n",
       "      <td>-6.200007</td>\n",
       "      <td>10</td>\n",
       "      <td>two-sided</td>\n",
       "      <td>0.000101</td>\n",
       "      <td>[-17.23, -8.12]</td>\n",
       "      <td>1.76554</td>\n",
       "      <td>284.056</td>\n",
       "      <td>0.999466</td>\n",
       "    </tr>\n",
       "  </tbody>\n",
       "</table>\n",
       "</div>"
      ],
      "text/plain": [
       "               T  dof alternative     p-val            CI95%  cohen-d  \\\n",
       "T-test -6.200007   10   two-sided  0.000101  [-17.23, -8.12]  1.76554   \n",
       "\n",
       "           BF10     power  \n",
       "T-test  284.056  0.999466  "
      ]
     },
     "execution_count": 17,
     "metadata": {},
     "output_type": "execute_result"
    }
   ],
   "source": [
    "slope24 = pg.ttest(slope_2, slope_4, paired=True)\n",
    "slope24"
   ]
  },
  {
   "cell_type": "code",
   "execution_count": 18,
   "id": "3e341045-89a7-44a8-b0f3-5023290a6d42",
   "metadata": {},
   "outputs": [
    {
     "data": {
      "text/html": [
       "<div>\n",
       "<style scoped>\n",
       "    .dataframe tbody tr th:only-of-type {\n",
       "        vertical-align: middle;\n",
       "    }\n",
       "\n",
       "    .dataframe tbody tr th {\n",
       "        vertical-align: top;\n",
       "    }\n",
       "\n",
       "    .dataframe thead th {\n",
       "        text-align: right;\n",
       "    }\n",
       "</style>\n",
       "<table border=\"1\" class=\"dataframe\">\n",
       "  <thead>\n",
       "    <tr style=\"text-align: right;\">\n",
       "      <th></th>\n",
       "      <th>T</th>\n",
       "      <th>dof</th>\n",
       "      <th>alternative</th>\n",
       "      <th>p-val</th>\n",
       "      <th>CI95%</th>\n",
       "      <th>cohen-d</th>\n",
       "      <th>BF10</th>\n",
       "      <th>power</th>\n",
       "    </tr>\n",
       "  </thead>\n",
       "  <tbody>\n",
       "    <tr>\n",
       "      <th>T-test</th>\n",
       "      <td>-2.838247</td>\n",
       "      <td>10</td>\n",
       "      <td>two-sided</td>\n",
       "      <td>0.017601</td>\n",
       "      <td>[-9.53, -1.15]</td>\n",
       "      <td>0.627659</td>\n",
       "      <td>3.849</td>\n",
       "      <td>0.468682</td>\n",
       "    </tr>\n",
       "  </tbody>\n",
       "</table>\n",
       "</div>"
      ],
      "text/plain": [
       "               T  dof alternative     p-val           CI95%   cohen-d   BF10  \\\n",
       "T-test -2.838247   10   two-sided  0.017601  [-9.53, -1.15]  0.627659  3.849   \n",
       "\n",
       "           power  \n",
       "T-test  0.468682  "
      ]
     },
     "execution_count": 18,
     "metadata": {},
     "output_type": "execute_result"
    }
   ],
   "source": [
    "slope34 = pg.ttest(slope_3, slope_4, paired=True)\n",
    "slope34"
   ]
  },
  {
   "cell_type": "code",
   "execution_count": 19,
   "id": "19cdc635-2c91-4c91-9552-976a5ad46161",
   "metadata": {},
   "outputs": [
    {
     "name": "stdout",
     "output_type": "stream",
     "text": [
      "               T  dof alternative     p-val         CI95%   cohen-d   BF10  \\\n",
      "T-test  1.940427   10   two-sided  0.081024  [-0.0, 0.04]  0.690775  1.189   \n",
      "\n",
      "           power  \n",
      "T-test  0.543467  \n",
      "Significant: [False]\n",
      "P-corr [0.16544442]\n",
      "\n",
      "\n",
      "               T  dof alternative     p-val         CI95%   cohen-d   BF10  \\\n",
      "T-test  2.170234   10   two-sided  0.055148  [-0.0, 0.05]  0.815689  1.585   \n",
      "\n",
      "           power  \n",
      "T-test  0.684441  \n",
      "Significant: [False]\n",
      "P-corr [0.16544442]\n",
      "\n",
      "\n",
      "               T  dof alternative     p-val          CI95%  cohen-d   BF10  \\\n",
      "T-test  0.773171   10   two-sided  0.457308  [-0.01, 0.02]  0.28401  0.383   \n",
      "\n",
      "           power  \n",
      "T-test  0.136836  \n",
      "Significant: [False]\n",
      "P-corr [0.45730792]\n",
      "\n",
      "\n",
      "               T  dof alternative    p-val            CI95%   cohen-d  \\\n",
      "T-test -6.012475   10   two-sided  0.00013  [-10.06, -4.62]  1.153317   \n",
      "\n",
      "           BF10     power  \n",
      "T-test  229.619  0.930345  \n",
      "Significant: [ True]\n",
      "P-corr [0.00064965]\n",
      "\n",
      "\n",
      "               T  dof alternative     p-val            CI95%  cohen-d  \\\n",
      "T-test -6.200007   10   two-sided  0.000101  [-17.23, -8.12]  1.76554   \n",
      "\n",
      "           BF10     power  \n",
      "T-test  284.056  0.999466  \n",
      "Significant: [ True]\n",
      "P-corr [0.00060872]\n",
      "\n",
      "\n",
      "               T  dof alternative     p-val           CI95%   cohen-d   BF10  \\\n",
      "T-test -2.838247   10   two-sided  0.017601  [-9.53, -1.15]  0.627659  3.849   \n",
      "\n",
      "           power  \n",
      "T-test  0.468682  \n",
      "Significant: [False]\n",
      "P-corr [0.0704049]\n",
      "\n",
      "\n"
     ]
    }
   ],
   "source": [
    "# Holm-Bonferroni multiple comparisons correction\n",
    "\n",
    "all_tests = [equiv23, equiv24, equiv34, slope23, slope24, slope34]\n",
    "\n",
    "pvals = [test['p-val'].values for test in all_tests]\n",
    "signif, p_corr = pg.multicomp(pvals, alpha = 0.05, method='holm')\n",
    "\n",
    "for test, s, p in zip(all_tests, signif, p_corr):\n",
    "    print(test)\n",
    "    print('Significant: '+str(s))\n",
    "    print('P-corr '+str(p)+'\\n\\n')"
   ]
  },
  {
   "cell_type": "markdown",
   "id": "5f6d3f19-1590-4d7d-b097-76d7e57d9e39",
   "metadata": {},
   "source": [
    "## panel C"
   ]
  },
  {
   "cell_type": "code",
   "execution_count": 11,
   "id": "1ec99f7f-27fc-4c97-9747-bc99cac9a34e",
   "metadata": {},
   "outputs": [],
   "source": [
    "resdir = \"/Users/sydneysmith/Projects/PrOPHEcy/PrOPHEcy/00-data/behav\"\n",
    "\n",
    "subData, sub_ids = load_behav(resdir)\n",
    "all_pars = compute_sigmoid_fit_params(subData, cost)"
   ]
  },
  {
   "cell_type": "code",
   "execution_count": 12,
   "id": "d32797d4-436e-4137-b892-59ae1dd42bb9",
   "metadata": {},
   "outputs": [
    {
     "data": {
      "text/plain": [
       "<Figure size 600x400 with 0 Axes>"
      ]
     },
     "metadata": {},
     "output_type": "display_data"
    },
    {
     "data": {
      "text/plain": [
       "<Figure size 600x400 with 0 Axes>"
      ]
     },
     "metadata": {},
     "output_type": "display_data"
    },
    {
     "data": {
      "image/png": "[encoded data removed]",
      "text/plain": [
       "<Figure size 600x400 with 1 Axes>"
      ]
     },
     "metadata": {},
     "output_type": "display_data"
    }
   ],
   "source": [
    "plot_sigmoid_fits(all_pars, group='sEEG')"
   ]
  },
  {
   "cell_type": "code",
   "execution_count": 13,
   "id": "d48d1410-e2cb-4c10-a6d5-126ac06b4d49",
   "metadata": {},
   "outputs": [
    {
     "data": {
      "image/png": "[encoded data removed]",
      "text/plain": [
       "<Figure size 600x350 with 2 Axes>"
      ]
     },
     "metadata": {},
     "output_type": "display_data"
    }
   ],
   "source": [
    "plot_sigmoid_params(all_pars, sub_ids)"
   ]
  },
  {
   "cell_type": "markdown",
   "id": "d8e99e99-9571-4d83-a2e8-87c900dea577",
   "metadata": {
    "jp-MarkdownHeadingCollapsed": true
   },
   "source": [
    "### panel C statistics"
   ]
  },
  {
   "cell_type": "code",
   "execution_count": 23,
   "id": "6fec5d44-2267-4975-adab-ad64de2e9b33",
   "metadata": {},
   "outputs": [],
   "source": [
    "subjs = [1002, 1005, 1007, 1008, 1009, 1010, 1014]\n",
    "\n",
    "pars_dict = {'subject' : [],\n",
    "             'n_tones' : [],\n",
    "             'equiv' : [],\n",
    "             'slope' : []}\n",
    "pars_dict['equiv'] = all_pars[:,:,0].flatten().tolist()\n",
    "pars_dict['slope'] = all_pars[:,:,1].flatten().tolist()\n",
    "pars_dict['n_tones'] = np.tile([2,3,4],len(subjs)).tolist()\n",
    "pars_dict['subject'] = np.array([np.repeat(subj, 3) for subj in subjs]).flatten().tolist()\n",
    "\n",
    "pars_df = pd.DataFrame(pars_dict)\n",
    "pars_df['group'] = np.tile('iEEG', len(pars_df))"
   ]
  },
  {
   "cell_type": "code",
   "execution_count": 24,
   "id": "255ca357-ed4c-43d1-abd9-8606a7497382",
   "metadata": {},
   "outputs": [
    {
     "data": {
      "text/html": [
       "<div>\n",
       "<style scoped>\n",
       "    .dataframe tbody tr th:only-of-type {\n",
       "        vertical-align: middle;\n",
       "    }\n",
       "\n",
       "    .dataframe tbody tr th {\n",
       "        vertical-align: top;\n",
       "    }\n",
       "\n",
       "    .dataframe thead th {\n",
       "        text-align: right;\n",
       "    }\n",
       "</style>\n",
       "<table border=\"1\" class=\"dataframe\">\n",
       "  <thead>\n",
       "    <tr style=\"text-align: right;\">\n",
       "      <th></th>\n",
       "      <th>Source</th>\n",
       "      <th>ddof1</th>\n",
       "      <th>ddof2</th>\n",
       "      <th>F</th>\n",
       "      <th>p-unc</th>\n",
       "      <th>p-GG-corr</th>\n",
       "      <th>ng2</th>\n",
       "      <th>eps</th>\n",
       "      <th>sphericity</th>\n",
       "      <th>W-spher</th>\n",
       "      <th>p-spher</th>\n",
       "    </tr>\n",
       "  </thead>\n",
       "  <tbody>\n",
       "    <tr>\n",
       "      <th>0</th>\n",
       "      <td>n_tones</td>\n",
       "      <td>2</td>\n",
       "      <td>12</td>\n",
       "      <td>2.298676</td>\n",
       "      <td>0.142842</td>\n",
       "      <td>0.169514</td>\n",
       "      <td>0.132578</td>\n",
       "      <td>0.641222</td>\n",
       "      <td>True</td>\n",
       "      <td>1029.624105</td>\n",
       "      <td>1.0</td>\n",
       "    </tr>\n",
       "  </tbody>\n",
       "</table>\n",
       "</div>"
      ],
      "text/plain": [
       "    Source  ddof1  ddof2         F     p-unc  p-GG-corr       ng2       eps  \\\n",
       "0  n_tones      2     12  2.298676  0.142842   0.169514  0.132578  0.641222   \n",
       "\n",
       "   sphericity      W-spher  p-spher  \n",
       "0        True  1029.624105      1.0  "
      ]
     },
     "execution_count": 24,
     "metadata": {},
     "output_type": "execute_result"
    }
   ],
   "source": [
    "# equivalence point\n",
    "pg.rm_anova(pars_df, dv='equiv', within='n_tones', subject='subject', correction=True)"
   ]
  },
  {
   "cell_type": "code",
   "execution_count": 25,
   "id": "09af64cf-d470-4637-8e9a-bd5742a676c3",
   "metadata": {},
   "outputs": [
    {
     "name": "stdout",
     "output_type": "stream",
     "text": [
      "mean: [np.float64(0.011116833623326241), np.float64(-0.036580203534916644), np.float64(0.009250326031188314)]\n",
      "std: [np.float64(0.0757208781562707), np.float64(0.050403728134909606), np.float64(0.03571888590784077)]\n"
     ]
    }
   ],
   "source": [
    "equiv_2 = all_pars[:,0,0]\n",
    "equiv_3 = all_pars[:,1,0]\n",
    "equiv_4 = all_pars[:,2,0]\n",
    "\n",
    "print('mean: '+str([np.mean(x) for x in [equiv_2, equiv_3, equiv_4]]))\n",
    "print('std: '+str([np.std(x) for x in [equiv_2, equiv_3, equiv_4]]))"
   ]
  },
  {
   "cell_type": "code",
   "execution_count": 26,
   "id": "0aa45a26-b88b-4d10-9561-769ebcab2095",
   "metadata": {},
   "outputs": [
    {
     "data": {
      "text/html": [
       "<div>\n",
       "<style scoped>\n",
       "    .dataframe tbody tr th:only-of-type {\n",
       "        vertical-align: middle;\n",
       "    }\n",
       "\n",
       "    .dataframe tbody tr th {\n",
       "        vertical-align: top;\n",
       "    }\n",
       "\n",
       "    .dataframe thead th {\n",
       "        text-align: right;\n",
       "    }\n",
       "</style>\n",
       "<table border=\"1\" class=\"dataframe\">\n",
       "  <thead>\n",
       "    <tr style=\"text-align: right;\">\n",
       "      <th></th>\n",
       "      <th>Source</th>\n",
       "      <th>ddof1</th>\n",
       "      <th>ddof2</th>\n",
       "      <th>F</th>\n",
       "      <th>p-unc</th>\n",
       "      <th>p-GG-corr</th>\n",
       "      <th>ng2</th>\n",
       "      <th>eps</th>\n",
       "      <th>sphericity</th>\n",
       "      <th>W-spher</th>\n",
       "      <th>p-spher</th>\n",
       "    </tr>\n",
       "  </thead>\n",
       "  <tbody>\n",
       "    <tr>\n",
       "      <th>0</th>\n",
       "      <td>n_tones</td>\n",
       "      <td>2</td>\n",
       "      <td>12</td>\n",
       "      <td>15.991793</td>\n",
       "      <td>0.000412</td>\n",
       "      <td>0.001634</td>\n",
       "      <td>0.070426</td>\n",
       "      <td>0.756235</td>\n",
       "      <td>True</td>\n",
       "      <td>0.67766</td>\n",
       "      <td>0.378033</td>\n",
       "    </tr>\n",
       "  </tbody>\n",
       "</table>\n",
       "</div>"
      ],
      "text/plain": [
       "    Source  ddof1  ddof2          F     p-unc  p-GG-corr       ng2       eps  \\\n",
       "0  n_tones      2     12  15.991793  0.000412   0.001634  0.070426  0.756235   \n",
       "\n",
       "   sphericity  W-spher   p-spher  \n",
       "0        True  0.67766  0.378033  "
      ]
     },
     "execution_count": 26,
     "metadata": {},
     "output_type": "execute_result"
    }
   ],
   "source": [
    "# sigmoid slope\n",
    "\n",
    "pg.rm_anova(pars_df, dv='slope', within='n_tones', subject='subject', correction=True)"
   ]
  },
  {
   "cell_type": "code",
   "execution_count": 27,
   "id": "c62ffa2f-fa14-4a82-b8e9-7999ed06a2f5",
   "metadata": {},
   "outputs": [
    {
     "name": "stdout",
     "output_type": "stream",
     "text": [
      "mean: [np.float64(7.1253487657513475), np.float64(11.3908455260576), np.float64(11.632632186358558)]\n",
      "std: [np.float64(6.080893601747111), np.float64(7.8484083866359), np.float64(8.43309886259314)]\n"
     ]
    }
   ],
   "source": [
    "slope_2 = all_pars[:,0,1]\n",
    "slope_3 = all_pars[:,1,1]\n",
    "slope_4 = all_pars[:,2,1]\n",
    "\n",
    "print('mean: '+str([np.mean(x) for x in [slope_2, slope_3, slope_4]]))\n",
    "print('std: '+str([np.std(x) for x in [slope_2, slope_3, slope_4]]))"
   ]
  },
  {
   "cell_type": "code",
   "execution_count": 28,
   "id": "b8487ac5-9956-422f-be2c-f956cc616828",
   "metadata": {},
   "outputs": [
    {
     "data": {
      "text/html": [
       "<div>\n",
       "<style scoped>\n",
       "    .dataframe tbody tr th:only-of-type {\n",
       "        vertical-align: middle;\n",
       "    }\n",
       "\n",
       "    .dataframe tbody tr th {\n",
       "        vertical-align: top;\n",
       "    }\n",
       "\n",
       "    .dataframe thead th {\n",
       "        text-align: right;\n",
       "    }\n",
       "</style>\n",
       "<table border=\"1\" class=\"dataframe\">\n",
       "  <thead>\n",
       "    <tr style=\"text-align: right;\">\n",
       "      <th></th>\n",
       "      <th>T</th>\n",
       "      <th>dof</th>\n",
       "      <th>alternative</th>\n",
       "      <th>p-val</th>\n",
       "      <th>CI95%</th>\n",
       "      <th>cohen-d</th>\n",
       "      <th>BF10</th>\n",
       "      <th>power</th>\n",
       "    </tr>\n",
       "  </thead>\n",
       "  <tbody>\n",
       "    <tr>\n",
       "      <th>T-test</th>\n",
       "      <td>1.441918</td>\n",
       "      <td>6</td>\n",
       "      <td>two-sided</td>\n",
       "      <td>0.199415</td>\n",
       "      <td>[-0.03, 0.13]</td>\n",
       "      <td>0.686547</td>\n",
       "      <td>0.747</td>\n",
       "      <td>0.334181</td>\n",
       "    </tr>\n",
       "  </tbody>\n",
       "</table>\n",
       "</div>"
      ],
      "text/plain": [
       "               T  dof alternative     p-val          CI95%   cohen-d   BF10  \\\n",
       "T-test  1.441918    6   two-sided  0.199415  [-0.03, 0.13]  0.686547  0.747   \n",
       "\n",
       "           power  \n",
       "T-test  0.334181  "
      ]
     },
     "execution_count": 28,
     "metadata": {},
     "output_type": "execute_result"
    }
   ],
   "source": [
    "# post-hoc ttests\n",
    "\n",
    "equiv23 = pg.ttest(equiv_2, equiv_3, paired=True)\n",
    "equiv23"
   ]
  },
  {
   "cell_type": "code",
   "execution_count": 29,
   "id": "b3c6241c-bd40-48f2-ab22-0584a8af19cd",
   "metadata": {},
   "outputs": [
    {
     "data": {
      "text/html": [
       "<div>\n",
       "<style scoped>\n",
       "    .dataframe tbody tr th:only-of-type {\n",
       "        vertical-align: middle;\n",
       "    }\n",
       "\n",
       "    .dataframe tbody tr th {\n",
       "        vertical-align: top;\n",
       "    }\n",
       "\n",
       "    .dataframe thead th {\n",
       "        text-align: right;\n",
       "    }\n",
       "</style>\n",
       "<table border=\"1\" class=\"dataframe\">\n",
       "  <thead>\n",
       "    <tr style=\"text-align: right;\">\n",
       "      <th></th>\n",
       "      <th>T</th>\n",
       "      <th>dof</th>\n",
       "      <th>alternative</th>\n",
       "      <th>p-val</th>\n",
       "      <th>CI95%</th>\n",
       "      <th>cohen-d</th>\n",
       "      <th>BF10</th>\n",
       "      <th>power</th>\n",
       "    </tr>\n",
       "  </thead>\n",
       "  <tbody>\n",
       "    <tr>\n",
       "      <th>T-test</th>\n",
       "      <td>0.082612</td>\n",
       "      <td>6</td>\n",
       "      <td>two-sided</td>\n",
       "      <td>0.936847</td>\n",
       "      <td>[-0.05, 0.06]</td>\n",
       "      <td>0.02919</td>\n",
       "      <td>0.354</td>\n",
       "      <td>0.050496</td>\n",
       "    </tr>\n",
       "  </tbody>\n",
       "</table>\n",
       "</div>"
      ],
      "text/plain": [
       "               T  dof alternative     p-val          CI95%  cohen-d   BF10  \\\n",
       "T-test  0.082612    6   two-sided  0.936847  [-0.05, 0.06]  0.02919  0.354   \n",
       "\n",
       "           power  \n",
       "T-test  0.050496  "
      ]
     },
     "execution_count": 29,
     "metadata": {},
     "output_type": "execute_result"
    }
   ],
   "source": [
    "equiv24 = pg.ttest(equiv_2, equiv_4, paired=True)\n",
    "equiv24"
   ]
  },
  {
   "cell_type": "code",
   "execution_count": 30,
   "id": "3c5b6b4a-d173-41f3-a784-77bc6feda107",
   "metadata": {},
   "outputs": [
    {
     "data": {
      "text/html": [
       "<div>\n",
       "<style scoped>\n",
       "    .dataframe tbody tr th:only-of-type {\n",
       "        vertical-align: middle;\n",
       "    }\n",
       "\n",
       "    .dataframe tbody tr th {\n",
       "        vertical-align: top;\n",
       "    }\n",
       "\n",
       "    .dataframe thead th {\n",
       "        text-align: right;\n",
       "    }\n",
       "</style>\n",
       "<table border=\"1\" class=\"dataframe\">\n",
       "  <thead>\n",
       "    <tr style=\"text-align: right;\">\n",
       "      <th></th>\n",
       "      <th>T</th>\n",
       "      <th>dof</th>\n",
       "      <th>alternative</th>\n",
       "      <th>p-val</th>\n",
       "      <th>CI95%</th>\n",
       "      <th>cohen-d</th>\n",
       "      <th>BF10</th>\n",
       "      <th>power</th>\n",
       "    </tr>\n",
       "  </thead>\n",
       "  <tbody>\n",
       "    <tr>\n",
       "      <th>T-test</th>\n",
       "      <td>-2.644747</td>\n",
       "      <td>6</td>\n",
       "      <td>two-sided</td>\n",
       "      <td>0.038297</td>\n",
       "      <td>[-0.09, -0.0]</td>\n",
       "      <td>0.971339</td>\n",
       "      <td>2.419</td>\n",
       "      <td>0.576335</td>\n",
       "    </tr>\n",
       "  </tbody>\n",
       "</table>\n",
       "</div>"
      ],
      "text/plain": [
       "               T  dof alternative     p-val          CI95%   cohen-d   BF10  \\\n",
       "T-test -2.644747    6   two-sided  0.038297  [-0.09, -0.0]  0.971339  2.419   \n",
       "\n",
       "           power  \n",
       "T-test  0.576335  "
      ]
     },
     "execution_count": 30,
     "metadata": {},
     "output_type": "execute_result"
    }
   ],
   "source": [
    "equiv34 = pg.ttest(equiv_3, equiv_4, paired=True)\n",
    "equiv34"
   ]
  },
  {
   "cell_type": "code",
   "execution_count": 31,
   "id": "20c85875-4b20-470a-b2a3-28d30d204000",
   "metadata": {},
   "outputs": [
    {
     "data": {
      "text/html": [
       "<div>\n",
       "<style scoped>\n",
       "    .dataframe tbody tr th:only-of-type {\n",
       "        vertical-align: middle;\n",
       "    }\n",
       "\n",
       "    .dataframe tbody tr th {\n",
       "        vertical-align: top;\n",
       "    }\n",
       "\n",
       "    .dataframe thead th {\n",
       "        text-align: right;\n",
       "    }\n",
       "</style>\n",
       "<table border=\"1\" class=\"dataframe\">\n",
       "  <thead>\n",
       "    <tr style=\"text-align: right;\">\n",
       "      <th></th>\n",
       "      <th>T</th>\n",
       "      <th>dof</th>\n",
       "      <th>alternative</th>\n",
       "      <th>p-val</th>\n",
       "      <th>CI95%</th>\n",
       "      <th>cohen-d</th>\n",
       "      <th>BF10</th>\n",
       "      <th>power</th>\n",
       "    </tr>\n",
       "  </thead>\n",
       "  <tbody>\n",
       "    <tr>\n",
       "      <th>T-test</th>\n",
       "      <td>-5.602932</td>\n",
       "      <td>6</td>\n",
       "      <td>two-sided</td>\n",
       "      <td>0.001377</td>\n",
       "      <td>[-6.13, -2.4]</td>\n",
       "      <td>0.562507</td>\n",
       "      <td>31.758</td>\n",
       "      <td>0.241896</td>\n",
       "    </tr>\n",
       "  </tbody>\n",
       "</table>\n",
       "</div>"
      ],
      "text/plain": [
       "               T  dof alternative     p-val          CI95%   cohen-d    BF10  \\\n",
       "T-test -5.602932    6   two-sided  0.001377  [-6.13, -2.4]  0.562507  31.758   \n",
       "\n",
       "           power  \n",
       "T-test  0.241896  "
      ]
     },
     "execution_count": 31,
     "metadata": {},
     "output_type": "execute_result"
    }
   ],
   "source": [
    "slope23 = pg.ttest(slope_2, slope_3, paired=True)\n",
    "slope23"
   ]
  },
  {
   "cell_type": "code",
   "execution_count": 32,
   "id": "58fa5c5a-e5bd-46c9-a256-18d2a85a6285",
   "metadata": {},
   "outputs": [
    {
     "data": {
      "text/html": [
       "<div>\n",
       "<style scoped>\n",
       "    .dataframe tbody tr th:only-of-type {\n",
       "        vertical-align: middle;\n",
       "    }\n",
       "\n",
       "    .dataframe tbody tr th {\n",
       "        vertical-align: top;\n",
       "    }\n",
       "\n",
       "    .dataframe thead th {\n",
       "        text-align: right;\n",
       "    }\n",
       "</style>\n",
       "<table border=\"1\" class=\"dataframe\">\n",
       "  <thead>\n",
       "    <tr style=\"text-align: right;\">\n",
       "      <th></th>\n",
       "      <th>T</th>\n",
       "      <th>dof</th>\n",
       "      <th>alternative</th>\n",
       "      <th>p-val</th>\n",
       "      <th>CI95%</th>\n",
       "      <th>cohen-d</th>\n",
       "      <th>BF10</th>\n",
       "      <th>power</th>\n",
       "    </tr>\n",
       "  </thead>\n",
       "  <tbody>\n",
       "    <tr>\n",
       "      <th>T-test</th>\n",
       "      <td>-4.014883</td>\n",
       "      <td>6</td>\n",
       "      <td>two-sided</td>\n",
       "      <td>0.006999</td>\n",
       "      <td>[-7.25, -1.76]</td>\n",
       "      <td>0.567616</td>\n",
       "      <td>8.852</td>\n",
       "      <td>0.245403</td>\n",
       "    </tr>\n",
       "  </tbody>\n",
       "</table>\n",
       "</div>"
      ],
      "text/plain": [
       "               T  dof alternative     p-val           CI95%   cohen-d   BF10  \\\n",
       "T-test -4.014883    6   two-sided  0.006999  [-7.25, -1.76]  0.567616  8.852   \n",
       "\n",
       "           power  \n",
       "T-test  0.245403  "
      ]
     },
     "execution_count": 32,
     "metadata": {},
     "output_type": "execute_result"
    }
   ],
   "source": [
    "slope24 = pg.ttest(slope_2, slope_4, paired=True)\n",
    "slope24"
   ]
  },
  {
   "cell_type": "code",
   "execution_count": 33,
   "id": "bcfe759b-38bb-495f-9304-b9a86903dab2",
   "metadata": {},
   "outputs": [
    {
     "data": {
      "text/html": [
       "<div>\n",
       "<style scoped>\n",
       "    .dataframe tbody tr th:only-of-type {\n",
       "        vertical-align: middle;\n",
       "    }\n",
       "\n",
       "    .dataframe tbody tr th {\n",
       "        vertical-align: top;\n",
       "    }\n",
       "\n",
       "    .dataframe thead th {\n",
       "        text-align: right;\n",
       "    }\n",
       "</style>\n",
       "<table border=\"1\" class=\"dataframe\">\n",
       "  <thead>\n",
       "    <tr style=\"text-align: right;\">\n",
       "      <th></th>\n",
       "      <th>T</th>\n",
       "      <th>dof</th>\n",
       "      <th>alternative</th>\n",
       "      <th>p-val</th>\n",
       "      <th>CI95%</th>\n",
       "      <th>cohen-d</th>\n",
       "      <th>BF10</th>\n",
       "      <th>power</th>\n",
       "    </tr>\n",
       "  </thead>\n",
       "  <tbody>\n",
       "    <tr>\n",
       "      <th>T-test</th>\n",
       "      <td>-0.319731</td>\n",
       "      <td>6</td>\n",
       "      <td>two-sided</td>\n",
       "      <td>0.760012</td>\n",
       "      <td>[-2.09, 1.61]</td>\n",
       "      <td>0.02748</td>\n",
       "      <td>0.369</td>\n",
       "      <td>0.050439</td>\n",
       "    </tr>\n",
       "  </tbody>\n",
       "</table>\n",
       "</div>"
      ],
      "text/plain": [
       "               T  dof alternative     p-val          CI95%  cohen-d   BF10  \\\n",
       "T-test -0.319731    6   two-sided  0.760012  [-2.09, 1.61]  0.02748  0.369   \n",
       "\n",
       "           power  \n",
       "T-test  0.050439  "
      ]
     },
     "execution_count": 33,
     "metadata": {},
     "output_type": "execute_result"
    }
   ],
   "source": [
    "slope34 = pg.ttest(slope_3, slope_4, paired=True)\n",
    "slope34"
   ]
  },
  {
   "cell_type": "code",
   "execution_count": 34,
   "id": "42b1da7d-e1e7-4222-aeba-f8f3c1bfcfcd",
   "metadata": {
    "scrolled": true
   },
   "outputs": [
    {
     "name": "stdout",
     "output_type": "stream",
     "text": [
      "               T  dof alternative     p-val          CI95%   cohen-d   BF10  \\\n",
      "T-test  1.441918    6   two-sided  0.199415  [-0.03, 0.13]  0.686547  0.747   \n",
      "\n",
      "           power  \n",
      "T-test  0.334181  \n",
      "Significant: [False]\n",
      "P-corr [0.5982446]\n",
      "\n",
      "\n",
      "               T  dof alternative     p-val          CI95%  cohen-d   BF10  \\\n",
      "T-test  0.082612    6   two-sided  0.936847  [-0.05, 0.06]  0.02919  0.354   \n",
      "\n",
      "           power  \n",
      "T-test  0.050496  \n",
      "Significant: [False]\n",
      "P-corr [1.]\n",
      "\n",
      "\n",
      "               T  dof alternative     p-val          CI95%   cohen-d   BF10  \\\n",
      "T-test -2.644747    6   two-sided  0.038297  [-0.09, -0.0]  0.971339  2.419   \n",
      "\n",
      "           power  \n",
      "T-test  0.576335  \n",
      "Significant: [False]\n",
      "P-corr [0.1531863]\n",
      "\n",
      "\n",
      "               T  dof alternative     p-val          CI95%   cohen-d    BF10  \\\n",
      "T-test -5.602932    6   two-sided  0.001377  [-6.13, -2.4]  0.562507  31.758   \n",
      "\n",
      "           power  \n",
      "T-test  0.241896  \n",
      "Significant: [ True]\n",
      "P-corr [0.00826288]\n",
      "\n",
      "\n",
      "               T  dof alternative     p-val           CI95%   cohen-d   BF10  \\\n",
      "T-test -4.014883    6   two-sided  0.006999  [-7.25, -1.76]  0.567616  8.852   \n",
      "\n",
      "           power  \n",
      "T-test  0.245403  \n",
      "Significant: [ True]\n",
      "P-corr [0.03499714]\n",
      "\n",
      "\n",
      "               T  dof alternative     p-val          CI95%  cohen-d   BF10  \\\n",
      "T-test -0.319731    6   two-sided  0.760012  [-2.09, 1.61]  0.02748  0.369   \n",
      "\n",
      "           power  \n",
      "T-test  0.050439  \n",
      "Significant: [False]\n",
      "P-corr [1.]\n",
      "\n",
      "\n"
     ]
    }
   ],
   "source": [
    "# Holm-Bonferroni for multiple comparisons\n",
    "\n",
    "all_tests = [equiv23, equiv24, equiv34, slope23, slope24, slope34]\n",
    "\n",
    "pvals = [test['p-val'].values for test in all_tests]\n",
    "signif, p_corr = pg.multicomp(pvals, alpha = 0.05, method='holm')\n",
    "\n",
    "for test, s, p in zip(all_tests, signif, p_corr):\n",
    "    print(test)\n",
    "    print('Significant: '+str(s))\n",
    "    print('P-corr '+str(p)+'\\n\\n')"
   ]
  },
  {
   "cell_type": "markdown",
   "id": "58613079-9253-4e9a-853a-a340a8698107",
   "metadata": {},
   "source": [
    "# panel D\n",
    "\n",
    "This panel contains sEEG electrode location information, and these data are available upon reasonable request, subject to IRB approval."
   ]
  }
 ],
 "metadata": {
  "kernelspec": {
   "display_name": "Python 3 (ipykernel)",
   "language": "python",
   "name": "python3"
  },
  "language_info": {
   "codemirror_mode": {
    "name": "ipython",
    "version": 3
   },
   "file_extension": ".py",
   "mimetype": "text/x-python",
   "name": "python",
   "nbconvert_exporter": "python",
   "pygments_lexer": "ipython3",
   "version": "3.12.0"
  }
 },
 "nbformat": 4,
 "nbformat_minor": 5
}
